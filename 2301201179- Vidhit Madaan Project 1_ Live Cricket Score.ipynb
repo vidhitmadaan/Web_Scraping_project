{
  "nbformat": 4,
  "nbformat_minor": 0,
  "metadata": {
    "colab": {
      "provenance": []
    },
    "kernelspec": {
      "name": "python3",
      "display_name": "Python 3"
    },
    "language_info": {
      "name": "python"
    }
  },
  "cells": [
    {
      "cell_type": "code",
      "execution_count": 1,
      "metadata": {
        "colab": {
          "base_uri": "https://localhost:8080/"
        },
        "id": "1vGJcxHmM6Qs",
        "outputId": "dfd845d0-357e-43b6-964e-5932a43fa4cb"
      },
      "outputs": [
        {
          "output_type": "stream",
          "name": "stdout",
          "text": [
            "Fetching Live Cricket Scores from ESPN CricInfo...\n",
            "\n",
            "No live matches found at the moment.\n"
          ]
        }
      ],
      "source": [
        "import requests\n",
        "from bs4 import BeautifulSoup\n",
        "import pandas as pd\n",
        "\n",
        "def scrape_cricket_scores():\n",
        "    try:\n",
        "        url = \"https://www.espncricinfo.com/rss/content/story/feeds/0.xml\"\n",
        "\n",
        "        response = requests.get(url)\n",
        "        response.raise_for_status()\n",
        "        soup = BeautifulSoup(response.content, \"xml\")\n",
        "\n",
        "        matches = soup.find_all(\"item\")\n",
        "\n",
        "        live_scores = []\n",
        "\n",
        "        print(\"Fetching Live Cricket Scores from ESPN CricInfo...\")\n",
        "\n",
        "        for match in matches:\n",
        "            title = match.find(\"title\").text\n",
        "            description = match.find(\"description\").text\n",
        "\n",
        "            if \"overs)\" in description or \"/\" in title:\n",
        "                parts = title.split(\" v \")\n",
        "                if len(parts) == 2:\n",
        "                    team1_info = parts[0].strip()\n",
        "                    team2_info = parts[1].strip()\n",
        "                    live_scores.append([team1_info, team2_info, description])\n",
        "\n",
        "        if not live_scores:\n",
        "            print(\"\\nNo live matches found at the moment.\")\n",
        "            return\n",
        "\n",
        "        df = pd.DataFrame(live_scores, columns=[\"Team 1 / Score\", \"Team 2 / Score\", \"Summary\"])\n",
        "        print(\"\\n--- Live Matches ---\")\n",
        "        print(df.to_string(index=False))\n",
        "\n",
        "    except requests.exceptions.RequestException as e:\n",
        "        print(f\"Error fetching data: {e}\")\n",
        "    except Exception as e:\n",
        "        print(f\"An error occurred: {e}\")\n",
        "\n",
        "if __name__ == \"__main__\":\n",
        "    scrape_cricket_scores()"
      ]
    }
  ]
}